{
  "cells": [
    {
      "cell_type": "markdown",
      "metadata": {
        "id": "DnV-jBZbwKUB"
      },
      "source": [
        "# Travelling Salesman Problem Visualization\n"
      ]
    },
    {
      "cell_type": "code",
      "execution_count": 1,
      "metadata": {
        "id": "kmOJMi3IdQN8"
      },
      "outputs": [],
      "source": [
        "import networkx as nx\n",
        "import math\n",
        "\n",
        "import random\n",
        "random.seed(2333)\n",
        "\n",
        "import numpy\n",
        "numpy.random.seed(2333)\n",
        "\n",
        "import matplotlib.pyplot as plt\n",
        "from itertools import permutations\n",
        "\n",
        "import imageio\n",
        "import os\n",
        "\n",
        "from IPython.display import Video"
      ]
    },
    {
      "cell_type": "code",
      "execution_count": 2,
      "metadata": {
        "id": "ydEm5B08cYJ_"
      },
      "outputs": [],
      "source": [
        "class TSP:\n",
        "\n",
        "    def __init__(self, G):\n",
        "        self.G = G\n",
        "        self.pos = nx.get_node_attributes(self.G, \"pos\")\n",
        "        self.G_ad = nx.to_numpy_array(self.G)\n",
        "\n",
        "    def _dist_btw_nodes(n1, n2):\n",
        "        return math.hypot(n1['pos'][0]-n2['pos'][0], n1['pos'][1]-n2['pos'][1])\n",
        "\n",
        "    def visualize(self, edges=[]):\n",
        "        plt.figure(figsize=(50, 25), dpi=32, frameon=True)\n",
        "        plt.autoscale(enable=False)\n",
        "        nx.draw_networkx(\n",
        "            G=self.G,\n",
        "            pos=self.pos,\n",
        "            edgelist=edges,\n",
        "            node_size=7200,\n",
        "            font_size=40,\n",
        "            width=8,\n",
        "            font_color='white',\n",
        "            node_color='black',\n",
        "            font_weight='bold',\n",
        "            edge_color='blue',\n",
        "        )\n",
        "\n",
        "    def brute_force(self):\n",
        "        travelNodes = {i for i in self.G.nodes()}\n",
        "        travelNodes.remove(0)  # Start at node 0\n",
        "\n",
        "        minLength = 2**63-1\n",
        "        minPath = []\n",
        "        history = []\n",
        "\n",
        "        routePermutations = permutations(travelNodes)\n",
        "        for route in routePermutations:\n",
        "\n",
        "            length = 0\n",
        "\n",
        "            currentNode = 0\n",
        "            for node in route:\n",
        "                length += self.G_ad[currentNode][node]\n",
        "                currentNode = node\n",
        "            length += self.G_ad[currentNode][0]\n",
        "\n",
        "            if length < minLength:\n",
        "                minLength = length\n",
        "                path = ([0]+list(route)+[0])\n",
        "                minPath = path\n",
        "                history.append(path.copy())\n",
        "\n",
        "        return minLength, minPath, history\n",
        "\n",
        "    def nearest_neighbour(self, startNode=None):\n",
        "        travelNodes = {i for i in self.G.nodes()}\n",
        "        if not startNode:\n",
        "            startNode = random.choice(tuple(travelNodes))\n",
        "        travelNodes.remove(startNode)  # Random startNode\n",
        "\n",
        "        path = [startNode]\n",
        "        length = 0\n",
        "        currentNode = startNode\n",
        "        history = [[startNode]]\n",
        "\n",
        "        while len(travelNodes) > 0:\n",
        "\n",
        "            next_node = None\n",
        "            distance = 2**63-1\n",
        "\n",
        "            for node in travelNodes:\n",
        "                history.append(path+[node])\n",
        "                if self.G_ad[currentNode][node] < distance:\n",
        "                    distance = self.G_ad[currentNode][node]\n",
        "                    next_node = node\n",
        "\n",
        "            length += distance\n",
        "            path.append(next_node)\n",
        "            travelNodes.remove(next_node)\n",
        "            currentNode = next_node\n",
        "\n",
        "        length += self.G_ad[path[-1]][startNode]\n",
        "        path.append(startNode)\n",
        "        history.append(path.copy())\n",
        "\n",
        "        return length, path, history\n",
        "\n",
        "    def christofides(self):\n",
        "        pass\n",
        "\n",
        "    def gen_animation(self, history, name, ext='mp4'):\n",
        "        if not os.path.exists(f'{name}/images'):\n",
        "            os.makedirs(f'{name}/images')\n",
        "\n",
        "        # with imageio.get_writer(f'{name}/{name}.gif', mode='I', duration=0.2) as writer:\n",
        "        #     for i, v in enumerate(history):\n",
        "        #         tsp.visualize(path_to_edgelist(v))\n",
        "        #         plt.savefig(f'{name}/images/{i}')\n",
        "        #         plt.close()\n",
        "        #         writer.append_data(imageio.imread(f'{name}/images/{i}.png'))\n",
        "\n",
        "        images = []\n",
        "        for i, v in enumerate(history):\n",
        "            self.visualize(path_to_edgelist(v))\n",
        "            plt.savefig(f'{name}/images/{i}')\n",
        "            plt.close()\n",
        "            images.append(imageio.imread(f'{name}/images/{i}.png'))\n",
        "        imageio.mimsave(f'{name}/{name}.{ext}', images)\n"
      ]
    },
    {
      "cell_type": "code",
      "execution_count": 3,
      "metadata": {},
      "outputs": [],
      "source": [
        "def gen_tsp_graph(size):\n",
        "    G = nx.random_geometric_graph(size, 0.2)\n",
        "    pos = nx.get_node_attributes(G, \"pos\")\n",
        "    for i in range(len(pos)):\n",
        "        for j in range(i + 1, len(pos)):\n",
        "            dist = math.hypot(\n",
        "                pos[i][0] - pos[j][0], pos[i][1] - pos[j][1])\n",
        "            G.add_edge(i, j, weight=dist)\n",
        "    return G\n",
        "\n",
        "\n",
        "def path_to_edgelist(path):\n",
        "    return list(nx.utils.pairwise(path))\n"
      ]
    },
    {
      "cell_type": "code",
      "execution_count": 4,
      "metadata": {
        "id": "IGdkT8APcYIP"
      },
      "outputs": [],
      "source": [
        "G = gen_tsp_graph(size=10)\n",
        "tsp = TSP(G)"
      ]
    },
    {
      "cell_type": "code",
      "execution_count": 5,
      "metadata": {},
      "outputs": [
        {
          "name": "stdout",
          "output_type": "stream",
          "text": [
            "3.078097894275286 [0, 3, 6, 9, 8, 5, 1, 2, 4, 7, 0]\n"
          ]
        }
      ],
      "source": [
        "length, path, history = tsp.brute_force()\n",
        "tsp.gen_animation(history, 'brute_force')\n",
        "print(length, path)"
      ]
    },
    {
      "cell_type": "code",
      "execution_count": 6,
      "metadata": {},
      "outputs": [
        {
          "data": {
            "text/html": [
              "<video src=\"brute_force/brute_force.mp4\" controls  >\n",
              "      Your browser does not support the <code>video</code> element.\n",
              "    </video>"
            ],
            "text/plain": [
              "<IPython.core.display.Video object>"
            ]
          },
          "execution_count": 6,
          "metadata": {},
          "output_type": "execute_result"
        }
      ],
      "source": [
        "Video('brute_force/brute_force.mp4')"
      ]
    },
    {
      "cell_type": "code",
      "execution_count": 7,
      "metadata": {},
      "outputs": [
        {
          "name": "stdout",
          "output_type": "stream",
          "text": [
            "3.314333715878226 [3, 0, 7, 8, 5, 1, 2, 4, 9, 6, 3]\n"
          ]
        }
      ],
      "source": [
        "length, path, history = tsp.nearest_neighbour(0)\n",
        "tsp.gen_animation(history, 'nearest_neighbour')\n",
        "print(length, path)"
      ]
    },
    {
      "cell_type": "code",
      "execution_count": 8,
      "metadata": {},
      "outputs": [
        {
          "data": {
            "text/html": [
              "<video src=\"nearest_neighbour/nearest_neighbour.mp4\" controls  >\n",
              "      Your browser does not support the <code>video</code> element.\n",
              "    </video>"
            ],
            "text/plain": [
              "<IPython.core.display.Video object>"
            ]
          },
          "execution_count": 8,
          "metadata": {},
          "output_type": "execute_result"
        }
      ],
      "source": [
        "Video('nearest_neighbour/nearest_neighbour.mp4')"
      ]
    }
  ],
  "metadata": {
    "colab": {
      "name": "tsp-visualization.ipynb",
      "provenance": []
    },
    "interpreter": {
      "hash": "38cca0c38332a56087b24af0bc80247f4fced29cb4f7f437d91dc159adec9c4e"
    },
    "kernelspec": {
      "display_name": "Python 3.9.7 ('base')",
      "language": "python",
      "name": "python3"
    },
    "language_info": {
      "codemirror_mode": {
        "name": "ipython",
        "version": 3
      },
      "file_extension": ".py",
      "mimetype": "text/x-python",
      "name": "python",
      "nbconvert_exporter": "python",
      "pygments_lexer": "ipython3",
      "version": "3.9.7"
    }
  },
  "nbformat": 4,
  "nbformat_minor": 0
}
