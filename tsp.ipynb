{
  "cells": [
    {
      "cell_type": "markdown",
      "metadata": {
        "id": "DnV-jBZbwKUB"
      },
      "source": [
        "# Travelling Salesman Problem Visualization\n"
      ]
    },
    {
      "cell_type": "code",
      "execution_count": 1,
      "metadata": {
        "id": "kmOJMi3IdQN8"
      },
      "outputs": [],
      "source": [
        "import random\n",
        "import math\n",
        "import timeit\n",
        "import os\n",
        "from itertools import permutations\n",
        "\n",
        "import numpy\n",
        "import pandas as pd\n",
        "import matplotlib.pyplot as plt\n",
        "import plotly.express as px\n",
        "import networkx as nx\n",
        "import networkx.algorithms.approximation as nx_app\n",
        "import imageio\n",
        "from IPython.display import Video\n",
        "\n",
        "numpy.random.seed(2333)\n",
        "random.seed(2333)\n"
      ]
    },
    {
      "cell_type": "code",
      "execution_count": 2,
      "metadata": {
        "id": "ydEm5B08cYJ_"
      },
      "outputs": [],
      "source": [
        "class TSP:\n",
        "\n",
        "    def __init__(self, G):\n",
        "        self.G = G\n",
        "        self.pos = nx.get_node_attributes(self.G, \"pos\")\n",
        "        self.G_ad = nx.to_numpy_array(self.G)\n",
        "        self.mst = self.prim_algo()\n",
        "\n",
        "    def visualize(self, edges=[], length=0):\n",
        "        plt.figure(figsize=(24, 24), dpi=32, frameon=True)\n",
        "        plt.autoscale(enable=False)\n",
        "        if length:\n",
        "            plt.title(f\"Path length: {length}\", fontsize = 36)\n",
        "        nx.draw_networkx(\n",
        "            G=self.G,\n",
        "            pos=self.pos,\n",
        "            edgelist=edges,\n",
        "            node_size=2400,\n",
        "            font_size=24,\n",
        "            width=4,\n",
        "            font_color='white',\n",
        "            node_color='black',\n",
        "            font_weight='bold',\n",
        "            edge_color='blue',\n",
        "        )\n",
        "\n",
        "    def brute_force(self):\n",
        "        travelNodes = {i for i in self.G.nodes()}\n",
        "        travelNodes.remove(0)  # Start at node 0\n",
        "\n",
        "        minLength = 2**63-1\n",
        "        minPath = []\n",
        "        pathHistory = []\n",
        "        lengthHistory = []\n",
        "\n",
        "        routePermutations = permutations(travelNodes)\n",
        "        for route in routePermutations:\n",
        "\n",
        "            length = 0\n",
        "\n",
        "            currentNode = 0\n",
        "            for node in route:\n",
        "                length += self.G_ad[currentNode][node]\n",
        "                currentNode = node\n",
        "            length += self.G_ad[currentNode][0]\n",
        "\n",
        "            if length < minLength:\n",
        "                minLength = length\n",
        "                path = ([0]+list(route)+[0])\n",
        "                minPath = path\n",
        "                pathHistory.append(path.copy())\n",
        "                lengthHistory.append(length.copy())\n",
        "\n",
        "        return minLength, minPath, lengthHistory, pathHistory\n",
        "\n",
        "    def nearest_neighbour(self, startNode=None):\n",
        "        travelNodes = {i for i in self.G.nodes()}\n",
        "        if not startNode:\n",
        "            startNode = random.choice(tuple(travelNodes))\n",
        "        travelNodes.remove(startNode)  # Random startNode\n",
        "\n",
        "        minPath = [startNode]\n",
        "        minLength = 0\n",
        "        currentNode = startNode\n",
        "        pathHistory = [[startNode]]\n",
        "        lengthHistory = [0]\n",
        "\n",
        "        while len(travelNodes) > 0:\n",
        "\n",
        "            next_node = None\n",
        "            distance = 2**63-1\n",
        "\n",
        "            for node in travelNodes:\n",
        "                pathHistory.append(minPath+[node])\n",
        "                lengthHistory.append(self.G_ad[currentNode][node]+minLength)\n",
        "                if self.G_ad[currentNode][node] < distance:\n",
        "                    distance = self.G_ad[currentNode][node]\n",
        "                    next_node = node\n",
        "\n",
        "            minLength += distance\n",
        "            minPath.append(next_node)\n",
        "            travelNodes.remove(next_node)\n",
        "            currentNode = next_node\n",
        "\n",
        "        minLength += self.G_ad[minPath[-1]][startNode]\n",
        "        minPath.append(startNode)\n",
        "        pathHistory.append(minPath.copy())\n",
        "        lengthHistory.append(minLength)\n",
        "\n",
        "        return minLength, minPath, lengthHistory, pathHistory\n",
        "\n",
        "    def christofides(self):\n",
        "        L = self.G.copy()\n",
        "        L.remove_nodes_from([v for v, degree in self.mst.degree if not (degree % 2)])\n",
        "        MG = nx.MultiGraph()\n",
        "        MG.add_edges_from(self.mst.edges)\n",
        "        edges = nx.min_weight_matching(L, maxcardinality=True, weight=\"weight\")\n",
        "        MG.add_edges_from(edges)\n",
        "        e_circuit = [n for n in nx.eulerian_circuit(MG)]\n",
        "        path = self.remove_repeated_in_circuit(e_circuit)\n",
        "        length = 0 \n",
        "        for i, j in path_to_edgelist(path):\n",
        "            length += math.hypot(self.pos[i][0] - self.pos[j][0], self.pos[i][1] - self.pos[j][1])\n",
        "        return length, path\n",
        "\n",
        "    def prim_algo(self):\n",
        "        visited = [0]\n",
        "        edge_list = []\n",
        "        while len(visited) < len(self.G_ad):\n",
        "            distance = 2**63-1\n",
        "            next_edge = (0, 0)\n",
        "\n",
        "            for n in visited:\n",
        "                for i, v in enumerate(self.G_ad[n]):\n",
        "                    if i not in visited:\n",
        "                        if v < distance:\n",
        "                            distance = v\n",
        "                            next_edge = (n, i)\n",
        "\n",
        "            edge_list.append(next_edge)\n",
        "            visited.append(next_edge[1])\n",
        "        self.update_mst(edge_list)\n",
        "        return edge_list\n",
        "\n",
        "    def krusal_algo(self):\n",
        "        '''\n",
        "        [TODO] This implementation is garbage. DFS is too slow. Fix later.\n",
        "        '''\n",
        "        def check_cycle(tree, node, parent, visited):\n",
        "            visited.append(node)\n",
        "            for n in tree.neighbors(node):\n",
        "                if n not in visited:\n",
        "                    if check_cycle(tree, n, node, visited):\n",
        "                        return True\n",
        "                elif n != parent:\n",
        "                    return True\n",
        "            return False\n",
        "\n",
        "        sorted_edges = sorted(self.G.edges(data=True),\n",
        "                              key=lambda t: t[2].get('weight', 1))\n",
        "        tree = nx.Graph()\n",
        "\n",
        "        for n1, n2, _ in sorted_edges:\n",
        "            tree.add_edge(n1, n2)\n",
        "            for n in list(tree.nodes()):\n",
        "                visited = list()\n",
        "                if check_cycle(tree, n, n, visited):\n",
        "                    tree.remove_edge(n1, n2)\n",
        "        edge_list = tree.edges\n",
        "        self.update_mst(edge_list)\n",
        "        return edge_list\n",
        "    \n",
        "    def update_mst(self, edge_list):\n",
        "        mst = nx.create_empty_copy(self.G)\n",
        "        for i, j in edge_list:\n",
        "            dist = math.hypot(\n",
        "                self.pos[i][0] - self.pos[j][0], self.pos[i][1] - self.pos[j][1])\n",
        "            mst.add_edge(i, j, weight=dist)\n",
        "        self.mst = mst\n",
        "\n",
        "\n",
        "    def remove_repeated_in_circuit(self, circuit):\n",
        "        path = []\n",
        "        for u, v in circuit:\n",
        "            if v in path:\n",
        "                continue\n",
        "            if not path:\n",
        "                path.append(u)\n",
        "            path.append(v)\n",
        "        path.append(path[0])\n",
        "        return path\n",
        "\n",
        "    def gen_animation(self, lengthHistory, pathHistory, name):\n",
        "        if not os.path.exists(f'{name}/images'):\n",
        "            os.makedirs(f'{name}/images')\n",
        "\n",
        "        with imageio.get_writer(f'{name}/{name}.gif', mode='I', duration=0.2) as writer:\n",
        "            for i in range(len(lengthHistory)):\n",
        "                self.visualize(path_to_edgelist(pathHistory[i]), lengthHistory[i])\n",
        "                plt.savefig(f'{name}/images/{i}')\n",
        "                plt.close()\n",
        "                writer.append_data(imageio.imread(f'{name}/images/{i}.png'))\n",
        "            for _ in range(5):\n",
        "                writer.append_data(imageio.imread(\n",
        "                    f'{name}/images/{len(lengthHistory)-1}.png'))\n",
        "\n",
        "        images = []\n",
        "        for i in range(len(lengthHistory)):\n",
        "            self.visualize(path_to_edgelist(pathHistory[i]), lengthHistory[i])\n",
        "            plt.savefig(f'{name}/images/{i}')\n",
        "            plt.close()\n",
        "            images.append(imageio.imread(f'{name}/images/{i}.png'))\n",
        "        for _ in range(5):\n",
        "            images.append(imageio.imread(\n",
        "                f'{name}/images/{len(lengthHistory)-1}.png'))\n",
        "        imageio.mimsave(f'{name}/{name}.mp4', images)\n"
      ]
    },
    {
      "cell_type": "code",
      "execution_count": 3,
      "metadata": {},
      "outputs": [],
      "source": [
        "def gen_tsp_graph(size):\n",
        "    G = nx.random_geometric_graph(size, 0.2)\n",
        "    pos = nx.get_node_attributes(G, \"pos\")\n",
        "    for i in range(len(pos)):\n",
        "        for j in range(i + 1, len(pos)):\n",
        "            dist = math.hypot(\n",
        "                pos[i][0] - pos[j][0], pos[i][1] - pos[j][1])\n",
        "            G.add_edge(i, j, weight=dist)\n",
        "    return G\n",
        "\n",
        "\n",
        "def path_to_edgelist(path):\n",
        "    return list(nx.utils.pairwise(path))\n"
      ]
    },
    {
      "cell_type": "markdown",
      "metadata": {},
      "source": [
        "## Initial Setup\n"
      ]
    },
    {
      "cell_type": "code",
      "execution_count": 4,
      "metadata": {
        "id": "IGdkT8APcYIP"
      },
      "outputs": [],
      "source": [
        "G = gen_tsp_graph(size=9)\n",
        "tsp = TSP(G)\n"
      ]
    },
    {
      "cell_type": "markdown",
      "metadata": {},
      "source": [
        "## Brute Force\n"
      ]
    },
    {
      "cell_type": "code",
      "execution_count": 5,
      "metadata": {},
      "outputs": [
        {
          "name": "stdout",
          "output_type": "stream",
          "text": [
            "2.961390392943015 [0, 3, 6, 7, 8, 5, 1, 2, 4, 0]\n"
          ]
        }
      ],
      "source": [
        "minLength, minPath, lengthHistory, pathHistory = tsp.brute_force()\n",
        "tsp.gen_animation(lengthHistory, pathHistory, 'brute_force')\n",
        "print(minLength, minPath)\n"
      ]
    },
    {
      "cell_type": "code",
      "execution_count": 6,
      "metadata": {},
      "outputs": [
        {
          "data": {
            "text/html": [
              "<video src=\"brute_force/brute_force.mp4\" controls  >\n",
              "      Your browser does not support the <code>video</code> element.\n",
              "    </video>"
            ],
            "text/plain": [
              "<IPython.core.display.Video object>"
            ]
          },
          "execution_count": 6,
          "metadata": {},
          "output_type": "execute_result"
        }
      ],
      "source": [
        "Video('brute_force/brute_force.mp4')\n"
      ]
    },
    {
      "cell_type": "markdown",
      "metadata": {},
      "source": [
        "## Nearest Neighbour\n"
      ]
    },
    {
      "cell_type": "code",
      "execution_count": 7,
      "metadata": {},
      "outputs": [
        {
          "name": "stdout",
          "output_type": "stream",
          "text": [
            "3.162652622005056 [3, 0, 7, 8, 5, 1, 2, 4, 6, 3]\n"
          ]
        }
      ],
      "source": [
        "minLength, minPath, lengthHistory, pathHistory = tsp.nearest_neighbour()\n",
        "tsp.gen_animation(lengthHistory, pathHistory, 'nearest_neighbour')\n",
        "print(minLength, minPath)\n"
      ]
    },
    {
      "cell_type": "code",
      "execution_count": 8,
      "metadata": {},
      "outputs": [
        {
          "data": {
            "text/html": [
              "<video src=\"nearest_neighbour/nearest_neighbour.mp4\" controls  >\n",
              "      Your browser does not support the <code>video</code> element.\n",
              "    </video>"
            ],
            "text/plain": [
              "<IPython.core.display.Video object>"
            ]
          },
          "execution_count": 8,
          "metadata": {},
          "output_type": "execute_result"
        }
      ],
      "source": [
        "Video('nearest_neighbour/nearest_neighbour.mp4')\n"
      ]
    },
    {
      "cell_type": "markdown",
      "metadata": {},
      "source": [
        "## Christofides Approximation\n"
      ]
    },
    {
      "cell_type": "markdown",
      "metadata": {},
      "source": [
        "### Minimal Spanning Tree\n"
      ]
    },
    {
      "cell_type": "code",
      "execution_count": 9,
      "metadata": {},
      "outputs": [
        {
          "data": {
            "image/png": "[encoded data removed]",
            "text/plain": [
              "<Figure size 768x768 with 1 Axes>"
            ]
          },
          "metadata": {},
          "output_type": "display_data"
        }
      ],
      "source": [
        "tsp.visualize(tsp.prim_algo())\n"
      ]
    },
    {
      "cell_type": "code",
      "execution_count": 10,
      "metadata": {},
      "outputs": [
        {
          "data": {
            "image/png": "[encoded data removed]",
            "text/plain": [
              "<Figure size 768x768 with 1 Axes>"
            ]
          },
          "metadata": {},
          "output_type": "display_data"
        }
      ],
      "source": [
        "tsp.visualize(tsp.krusal_algo())\n"
      ]
    },
    {
      "cell_type": "code",
      "execution_count": 13,
      "metadata": {},
      "outputs": [
        {
          "name": "stdout",
          "output_type": "stream",
          "text": [
            "2.961390392943015 [0, 3, 6, 7, 8, 5, 1, 2, 4, 0]\n"
          ]
        },
        {
          "data": {
            "image/png": "[encoded data removed]",
            "text/plain": [
              "<Figure size 768x768 with 1 Axes>"
            ]
          },
          "metadata": {},
          "output_type": "display_data"
        }
      ],
      "source": [
        "length, path = tsp.christofides()\n",
        "print(length, path)\n",
        "tsp.visualize(path_to_edgelist(path), length=length)"
      ]
    },
    {
      "cell_type": "markdown",
      "metadata": {},
      "source": [
        "## Runtime Comparison\n"
      ]
    },
    {
      "cell_type": "code",
      "execution_count": null,
      "metadata": {},
      "outputs": [],
      "source": [
        "bf = []\n",
        "nn = []\n",
        "ch = []\n",
        "\n",
        "for i in range(2, 13):\n",
        "    G = gen_tsp_graph(size=i)\n",
        "    tsp = TSP(G)\n",
        "\n",
        "    start = timeit.default_timer()\n",
        "    tsp.brute_force()\n",
        "    end = timeit.default_timer()\n",
        "    bf.append(end-start)\n",
        "\n",
        "    start = timeit.default_timer()\n",
        "    tsp.nearest_neighbour()\n",
        "    end = timeit.default_timer()\n",
        "    nn.append(end-start)\n",
        "\n",
        "    start = timeit.default_timer()\n",
        "    nx_app.christofides(G, weight=\"weight\")\n",
        "    end = timeit.default_timer()\n",
        "    ch.append(end-start)\n"
      ]
    },
    {
      "cell_type": "code",
      "execution_count": null,
      "metadata": {},
      "outputs": [],
      "source": [
        "data = {\n",
        "    'Brute Force': bf,\n",
        "    'Nearest Neighbours': nn,\n",
        "    'Christofides': ch,\n",
        "}\n",
        "df = pd.DataFrame(data, index=[i for i in range(2, 13)])\n"
      ]
    },
    {
      "cell_type": "code",
      "execution_count": null,
      "metadata": {},
      "outputs": [
        {
          "data": {
            "application/vnd.plotly.v1+json": {
              "config": {
                "plotlyServerURL": "https://plot.ly"
              },
              "data": [
                {
                  "hovertemplate": "variable=Brute Force<br>index=%{x}<br>value=%{y}<extra></extra>",
                  "legendgroup": "Brute Force",
                  "line": {
                    "color": "#636efa",
                    "dash": "solid"
                  },
                  "marker": {
                    "symbol": "circle"
                  },
                  "mode": "lines",
                  "name": "Brute Force",
                  "orientation": "v",
                  "showlegend": true,
                  "type": "scatter",
                  "x": [
                    2,
                    3,
                    4,
                    5,
                    6,
                    7,
                    8,
                    9,
                    10,
                    11,
                    12
                  ],
                  "xaxis": "x",
                  "y": [
                    0.00004950000004555477,
                    0.000009875000046122295,
                    0.000015916999927867437,
                    0.000046750000024076144,
                    0.0002319999999826905,
                    0.0016193330000078276,
                    0.01167741599999772,
                    0.10696862499992221,
                    1.0155006250000724,
                    11.161857374999954,
                    134.49295237499996
                  ],
                  "yaxis": "y"
                },
                {
                  "hovertemplate": "variable=Nearest Neighbours<br>index=%{x}<br>value=%{y}<extra></extra>",
                  "legendgroup": "Nearest Neighbours",
                  "line": {
                    "color": "#EF553B",
                    "dash": "solid"
                  },
                  "marker": {
                    "symbol": "circle"
                  },
                  "mode": "lines",
                  "name": "Nearest Neighbours",
                  "orientation": "v",
                  "showlegend": true,
                  "type": "scatter",
                  "x": [
                    2,
                    3,
                    4,
                    5,
                    6,
                    7,
                    8,
                    9,
                    10,
                    11,
                    12
                  ],
                  "xaxis": "x",
                  "y": [
                    0.00003083300009620871,
                    0.000009417000001121778,
                    0.000010666999969544122,
                    0.000012957999956597632,
                    0.00001950000000761065,
                    0.00003766700001506251,
                    0.000040832999957274296,
                    0.00007120800000848249,
                    0.00007487499999569991,
                    0.00008291699998608237,
                    0.00010604100009459216
                  ],
                  "yaxis": "y"
                },
                {
                  "hovertemplate": "variable=Christofides<br>index=%{x}<br>value=%{y}<extra></extra>",
                  "legendgroup": "Christofides",
                  "line": {
                    "color": "#00cc96",
                    "dash": "solid"
                  },
                  "marker": {
                    "symbol": "circle"
                  },
                  "mode": "lines",
                  "name": "Christofides",
                  "orientation": "v",
                  "showlegend": true,
                  "type": "scatter",
                  "x": [
                    2,
                    3,
                    4,
                    5,
                    6,
                    7,
                    8,
                    9,
                    10,
                    11,
                    12
                  ],
                  "xaxis": "x",
                  "y": [
                    0.0008824169999570586,
                    0.00022608299991588865,
                    0.00030041700006222527,
                    0.00043529099991701514,
                    0.0003090420000262384,
                    0.0005872079999562629,
                    0.0008798329999990528,
                    0.0008387500000708314,
                    0.0007879159999220064,
                    0.0020897499999819047,
                    0.0009315419999893493
                  ],
                  "yaxis": "y"
                }
              ],
              "layout": {
                "legend": {
                  "title": {
                    "text": "variable"
                  },
                  "tracegroupgap": 0
                },
                "template": {
                  "data": {
                    "bar": [
                      {
                        "error_x": {
                          "color": "#2a3f5f"
                        },
                        "error_y": {
                          "color": "#2a3f5f"
                        },
                        "marker": {
                          "line": {
                            "color": "#E5ECF6",
                            "width": 0.5
                          },
                          "pattern": {
                            "fillmode": "overlay",
                            "size": 10,
                            "solidity": 0.2
                          }
                        },
                        "type": "bar"
                      }
                    ],
                    "barpolar": [
                      {
                        "marker": {
                          "line": {
                            "color": "#E5ECF6",
                            "width": 0.5
                          },
                          "pattern": {
                            "fillmode": "overlay",
                            "size": 10,
                            "solidity": 0.2
                          }
                        },
                        "type": "barpolar"
                      }
                    ],
                    "carpet": [
                      {
                        "aaxis": {
                          "endlinecolor": "#2a3f5f",
                          "gridcolor": "white",
                          "linecolor": "white",
                          "minorgridcolor": "white",
                          "startlinecolor": "#2a3f5f"
                        },
                        "baxis": {
                          "endlinecolor": "#2a3f5f",
                          "gridcolor": "white",
                          "linecolor": "white",
                          "minorgridcolor": "white",
                          "startlinecolor": "#2a3f5f"
                        },
                        "type": "carpet"
                      }
                    ],
                    "choropleth": [
                      {
                        "colorbar": {
                          "outlinewidth": 0,
                          "ticks": ""
                        },
                        "type": "choropleth"
                      }
                    ],
                    "contour": [
                      {
                        "colorbar": {
                          "outlinewidth": 0,
                          "ticks": ""
                        },
                        "colorscale": [
                          [
                            0,
                            "#0d0887"
                          ],
                          [
                            0.1111111111111111,
                            "#46039f"
                          ],
                          [
                            0.2222222222222222,
                            "#7201a8"
                          ],
                          [
                            0.3333333333333333,
                            "#9c179e"
                          ],
                          [
                            0.4444444444444444,
                            "#bd3786"
                          ],
                          [
                            0.5555555555555556,
                            "#d8576b"
                          ],
                          [
                            0.6666666666666666,
                            "#ed7953"
                          ],
                          [
                            0.7777777777777778,
                            "#fb9f3a"
                          ],
                          [
                            0.8888888888888888,
                            "#fdca26"
                          ],
                          [
                            1,
                            "#f0f921"
                          ]
                        ],
                        "type": "contour"
                      }
                    ],
                    "contourcarpet": [
                      {
                        "colorbar": {
                          "outlinewidth": 0,
                          "ticks": ""
                        },
                        "type": "contourcarpet"
                      }
                    ],
                    "heatmap": [
                      {
                        "colorbar": {
                          "outlinewidth": 0,
                          "ticks": ""
                        },
                        "colorscale": [
                          [
                            0,
                            "#0d0887"
                          ],
                          [
                            0.1111111111111111,
                            "#46039f"
                          ],
                          [
                            0.2222222222222222,
                            "#7201a8"
                          ],
                          [
                            0.3333333333333333,
                            "#9c179e"
                          ],
                          [
                            0.4444444444444444,
                            "#bd3786"
                          ],
                          [
                            0.5555555555555556,
                            "#d8576b"
                          ],
                          [
                            0.6666666666666666,
                            "#ed7953"
                          ],
                          [
                            0.7777777777777778,
                            "#fb9f3a"
                          ],
                          [
                            0.8888888888888888,
                            "#fdca26"
                          ],
                          [
                            1,
                            "#f0f921"
                          ]
                        ],
                        "type": "heatmap"
                      }
                    ],
                    "heatmapgl": [
                      {
                        "colorbar": {
                          "outlinewidth": 0,
                          "ticks": ""
                        },
                        "colorscale": [
                          [
                            0,
                            "#0d0887"
                          ],
                          [
                            0.1111111111111111,
                            "#46039f"
                          ],
                          [
                            0.2222222222222222,
                            "#7201a8"
                          ],
                          [
                            0.3333333333333333,
                            "#9c179e"
                          ],
                          [
                            0.4444444444444444,
                            "#bd3786"
                          ],
                          [
                            0.5555555555555556,
                            "#d8576b"
                          ],
                          [
                            0.6666666666666666,
                            "#ed7953"
                          ],
                          [
                            0.7777777777777778,
                            "#fb9f3a"
                          ],
                          [
                            0.8888888888888888,
                            "#fdca26"
                          ],
                          [
                            1,
                            "#f0f921"
                          ]
                        ],
                        "type": "heatmapgl"
                      }
                    ],
                    "histogram": [
                      {
                        "marker": {
                          "pattern": {
                            "fillmode": "overlay",
                            "size": 10,
                            "solidity": 0.2
                          }
                        },
                        "type": "histogram"
                      }
                    ],
                    "histogram2d": [
                      {
                        "colorbar": {
                          "outlinewidth": 0,
                          "ticks": ""
                        },
                        "colorscale": [
                          [
                            0,
                            "#0d0887"
                          ],
                          [
                            0.1111111111111111,
                            "#46039f"
                          ],
                          [
                            0.2222222222222222,
                            "#7201a8"
                          ],
                          [
                            0.3333333333333333,
                            "#9c179e"
                          ],
                          [
                            0.4444444444444444,
                            "#bd3786"
                          ],
                          [
                            0.5555555555555556,
                            "#d8576b"
                          ],
                          [
                            0.6666666666666666,
                            "#ed7953"
                          ],
                          [
                            0.7777777777777778,
                            "#fb9f3a"
                          ],
                          [
                            0.8888888888888888,
                            "#fdca26"
                          ],
                          [
                            1,
                            "#f0f921"
                          ]
                        ],
                        "type": "histogram2d"
                      }
                    ],
                    "histogram2dcontour": [
                      {
                        "colorbar": {
                          "outlinewidth": 0,
                          "ticks": ""
                        },
                        "colorscale": [
                          [
                            0,
                            "#0d0887"
                          ],
                          [
                            0.1111111111111111,
                            "#46039f"
                          ],
                          [
                            0.2222222222222222,
                            "#7201a8"
                          ],
                          [
                            0.3333333333333333,
                            "#9c179e"
                          ],
                          [
                            0.4444444444444444,
                            "#bd3786"
                          ],
                          [
                            0.5555555555555556,
                            "#d8576b"
                          ],
                          [
                            0.6666666666666666,
                            "#ed7953"
                          ],
                          [
                            0.7777777777777778,
                            "#fb9f3a"
                          ],
                          [
                            0.8888888888888888,
                            "#fdca26"
                          ],
                          [
                            1,
                            "#f0f921"
                          ]
                        ],
                        "type": "histogram2dcontour"
                      }
                    ],
                    "mesh3d": [
                      {
                        "colorbar": {
                          "outlinewidth": 0,
                          "ticks": ""
                        },
                        "type": "mesh3d"
                      }
                    ],
                    "parcoords": [
                      {
                        "line": {
                          "colorbar": {
                            "outlinewidth": 0,
                            "ticks": ""
                          }
                        },
                        "type": "parcoords"
                      }
                    ],
                    "pie": [
                      {
                        "automargin": true,
                        "type": "pie"
                      }
                    ],
                    "scatter": [
                      {
                        "marker": {
                          "colorbar": {
                            "outlinewidth": 0,
                            "ticks": ""
                          }
                        },
                        "type": "scatter"
                      }
                    ],
                    "scatter3d": [
                      {
                        "line": {
                          "colorbar": {
                            "outlinewidth": 0,
                            "ticks": ""
                          }
                        },
                        "marker": {
                          "colorbar": {
                            "outlinewidth": 0,
                            "ticks": ""
                          }
                        },
                        "type": "scatter3d"
                      }
                    ],
                    "scattercarpet": [
                      {
                        "marker": {
                          "colorbar": {
                            "outlinewidth": 0,
                            "ticks": ""
                          }
                        },
                        "type": "scattercarpet"
                      }
                    ],
                    "scattergeo": [
                      {
                        "marker": {
                          "colorbar": {
                            "outlinewidth": 0,
                            "ticks": ""
                          }
                        },
                        "type": "scattergeo"
                      }
                    ],
                    "scattergl": [
                      {
                        "marker": {
                          "colorbar": {
                            "outlinewidth": 0,
                            "ticks": ""
                          }
                        },
                        "type": "scattergl"
                      }
                    ],
                    "scattermapbox": [
                      {
                        "marker": {
                          "colorbar": {
                            "outlinewidth": 0,
                            "ticks": ""
                          }
                        },
                        "type": "scattermapbox"
                      }
                    ],
                    "scatterpolar": [
                      {
                        "marker": {
                          "colorbar": {
                            "outlinewidth": 0,
                            "ticks": ""
                          }
                        },
                        "type": "scatterpolar"
                      }
                    ],
                    "scatterpolargl": [
                      {
                        "marker": {
                          "colorbar": {
                            "outlinewidth": 0,
                            "ticks": ""
                          }
                        },
                        "type": "scatterpolargl"
                      }
                    ],
                    "scatterternary": [
                      {
                        "marker": {
                          "colorbar": {
                            "outlinewidth": 0,
                            "ticks": ""
                          }
                        },
                        "type": "scatterternary"
                      }
                    ],
                    "surface": [
                      {
                        "colorbar": {
                          "outlinewidth": 0,
                          "ticks": ""
                        },
                        "colorscale": [
                          [
                            0,
                            "#0d0887"
                          ],
                          [
                            0.1111111111111111,
                            "#46039f"
                          ],
                          [
                            0.2222222222222222,
                            "#7201a8"
                          ],
                          [
                            0.3333333333333333,
                            "#9c179e"
                          ],
                          [
                            0.4444444444444444,
                            "#bd3786"
                          ],
                          [
                            0.5555555555555556,
                            "#d8576b"
                          ],
                          [
                            0.6666666666666666,
                            "#ed7953"
                          ],
                          [
                            0.7777777777777778,
                            "#fb9f3a"
                          ],
                          [
                            0.8888888888888888,
                            "#fdca26"
                          ],
                          [
                            1,
                            "#f0f921"
                          ]
                        ],
                        "type": "surface"
                      }
                    ],
                    "table": [
                      {
                        "cells": {
                          "fill": {
                            "color": "#EBF0F8"
                          },
                          "line": {
                            "color": "white"
                          }
                        },
                        "header": {
                          "fill": {
                            "color": "#C8D4E3"
                          },
                          "line": {
                            "color": "white"
                          }
                        },
                        "type": "table"
                      }
                    ]
                  },
                  "layout": {
                    "annotationdefaults": {
                      "arrowcolor": "#2a3f5f",
                      "arrowhead": 0,
                      "arrowwidth": 1
                    },
                    "autotypenumbers": "strict",
                    "coloraxis": {
                      "colorbar": {
                        "outlinewidth": 0,
                        "ticks": ""
                      }
                    },
                    "colorscale": {
                      "diverging": [
                        [
                          0,
                          "#8e0152"
                        ],
                        [
                          0.1,
                          "#c51b7d"
                        ],
                        [
                          0.2,
                          "#de77ae"
                        ],
                        [
                          0.3,
                          "#f1b6da"
                        ],
                        [
                          0.4,
                          "#fde0ef"
                        ],
                        [
                          0.5,
                          "#f7f7f7"
                        ],
                        [
                          0.6,
                          "#e6f5d0"
                        ],
                        [
                          0.7,
                          "#b8e186"
                        ],
                        [
                          0.8,
                          "#7fbc41"
                        ],
                        [
                          0.9,
                          "#4d9221"
                        ],
                        [
                          1,
                          "#276419"
                        ]
                      ],
                      "sequential": [
                        [
                          0,
                          "#0d0887"
                        ],
                        [
                          0.1111111111111111,
                          "#46039f"
                        ],
                        [
                          0.2222222222222222,
                          "#7201a8"
                        ],
                        [
                          0.3333333333333333,
                          "#9c179e"
                        ],
                        [
                          0.4444444444444444,
                          "#bd3786"
                        ],
                        [
                          0.5555555555555556,
                          "#d8576b"
                        ],
                        [
                          0.6666666666666666,
                          "#ed7953"
                        ],
                        [
                          0.7777777777777778,
                          "#fb9f3a"
                        ],
                        [
                          0.8888888888888888,
                          "#fdca26"
                        ],
                        [
                          1,
                          "#f0f921"
                        ]
                      ],
                      "sequentialminus": [
                        [
                          0,
                          "#0d0887"
                        ],
                        [
                          0.1111111111111111,
                          "#46039f"
                        ],
                        [
                          0.2222222222222222,
                          "#7201a8"
                        ],
                        [
                          0.3333333333333333,
                          "#9c179e"
                        ],
                        [
                          0.4444444444444444,
                          "#bd3786"
                        ],
                        [
                          0.5555555555555556,
                          "#d8576b"
                        ],
                        [
                          0.6666666666666666,
                          "#ed7953"
                        ],
                        [
                          0.7777777777777778,
                          "#fb9f3a"
                        ],
                        [
                          0.8888888888888888,
                          "#fdca26"
                        ],
                        [
                          1,
                          "#f0f921"
                        ]
                      ]
                    },
                    "colorway": [
                      "#636efa",
                      "#EF553B",
                      "#00cc96",
                      "#ab63fa",
                      "#FFA15A",
                      "#19d3f3",
                      "#FF6692",
                      "#B6E880",
                      "#FF97FF",
                      "#FECB52"
                    ],
                    "font": {
                      "color": "#2a3f5f"
                    },
                    "geo": {
                      "bgcolor": "white",
                      "lakecolor": "white",
                      "landcolor": "#E5ECF6",
                      "showlakes": true,
                      "showland": true,
                      "subunitcolor": "white"
                    },
                    "hoverlabel": {
                      "align": "left"
                    },
                    "hovermode": "closest",
                    "mapbox": {
                      "style": "light"
                    },
                    "paper_bgcolor": "white",
                    "plot_bgcolor": "#E5ECF6",
                    "polar": {
                      "angularaxis": {
                        "gridcolor": "white",
                        "linecolor": "white",
                        "ticks": ""
                      },
                      "bgcolor": "#E5ECF6",
                      "radialaxis": {
                        "gridcolor": "white",
                        "linecolor": "white",
                        "ticks": ""
                      }
                    },
                    "scene": {
                      "xaxis": {
                        "backgroundcolor": "#E5ECF6",
                        "gridcolor": "white",
                        "gridwidth": 2,
                        "linecolor": "white",
                        "showbackground": true,
                        "ticks": "",
                        "zerolinecolor": "white"
                      },
                      "yaxis": {
                        "backgroundcolor": "#E5ECF6",
                        "gridcolor": "white",
                        "gridwidth": 2,
                        "linecolor": "white",
                        "showbackground": true,
                        "ticks": "",
                        "zerolinecolor": "white"
                      },
                      "zaxis": {
                        "backgroundcolor": "#E5ECF6",
                        "gridcolor": "white",
                        "gridwidth": 2,
                        "linecolor": "white",
                        "showbackground": true,
                        "ticks": "",
                        "zerolinecolor": "white"
                      }
                    },
                    "shapedefaults": {
                      "line": {
                        "color": "#2a3f5f"
                      }
                    },
                    "ternary": {
                      "aaxis": {
                        "gridcolor": "white",
                        "linecolor": "white",
                        "ticks": ""
                      },
                      "baxis": {
                        "gridcolor": "white",
                        "linecolor": "white",
                        "ticks": ""
                      },
                      "bgcolor": "#E5ECF6",
                      "caxis": {
                        "gridcolor": "white",
                        "linecolor": "white",
                        "ticks": ""
                      }
                    },
                    "title": {
                      "x": 0.05
                    },
                    "xaxis": {
                      "automargin": true,
                      "gridcolor": "white",
                      "linecolor": "white",
                      "ticks": "",
                      "title": {
                        "standoff": 15
                      },
                      "zerolinecolor": "white",
                      "zerolinewidth": 2
                    },
                    "yaxis": {
                      "automargin": true,
                      "gridcolor": "white",
                      "linecolor": "white",
                      "ticks": "",
                      "title": {
                        "standoff": 15
                      },
                      "zerolinecolor": "white",
                      "zerolinewidth": 2
                    }
                  }
                },
                "title": {
                  "text": "Runtime Comparison for 2-12 Cities"
                },
                "xaxis": {
                  "anchor": "y",
                  "domain": [
                    0,
                    1
                  ],
                  "title": {
                    "text": "Amount of Cities"
                  }
                },
                "yaxis": {
                  "anchor": "x",
                  "domain": [
                    0,
                    1
                  ],
                  "title": {
                    "text": "Execution Time (s)"
                  }
                }
              }
            }
          },
          "metadata": {},
          "output_type": "display_data"
        }
      ],
      "source": [
        "fig = px.line(df, title=\"Runtime Comparison for 2-12 Cities\")\n",
        "fig.update_xaxes(title=\"Amount of Cities\")\n",
        "fig.update_yaxes(title=\"Execution Time (s)\")\n",
        "fig.show()\n"
      ]
    },
    {
      "cell_type": "code",
      "execution_count": null,
      "metadata": {},
      "outputs": [],
      "source": [
        "nn = []\n",
        "ch = []\n",
        "\n",
        "for i in range(10, 501, 10):\n",
        "    G = gen_tsp_graph(size=i)\n",
        "    tsp = TSP(G)\n",
        "\n",
        "    start = timeit.default_timer()\n",
        "    tsp.nearest_neighbour()\n",
        "    end = timeit.default_timer()\n",
        "    nn.append(end-start)\n",
        "\n",
        "    start = timeit.default_timer()\n",
        "    nx_app.christofides(G, weight=\"weight\")\n",
        "    end = timeit.default_timer()\n",
        "    ch.append(end-start)\n"
      ]
    },
    {
      "cell_type": "code",
      "execution_count": null,
      "metadata": {},
      "outputs": [
        {
          "data": {
            "text/html": [
              "<div>\n",
              "<style scoped>\n",
              "    .dataframe tbody tr th:only-of-type {\n",
              "        vertical-align: middle;\n",
              "    }\n",
              "\n",
              "    .dataframe tbody tr th {\n",
              "        vertical-align: top;\n",
              "    }\n",
              "\n",
              "    .dataframe thead th {\n",
              "        text-align: right;\n",
              "    }\n",
              "</style>\n",
              "<table border=\"1\" class=\"dataframe\">\n",
              "  <thead>\n",
              "    <tr style=\"text-align: right;\">\n",
              "      <th></th>\n",
              "      <th>Nearest Neighbours</th>\n",
              "      <th>Christofides</th>\n",
              "    </tr>\n",
              "  </thead>\n",
              "  <tbody>\n",
              "    <tr>\n",
              "      <th>10</th>\n",
              "      <td>0.000049</td>\n",
              "      <td>0.000986</td>\n",
              "    </tr>\n",
              "    <tr>\n",
              "      <th>20</th>\n",
              "      <td>0.000121</td>\n",
              "      <td>0.002630</td>\n",
              "    </tr>\n",
              "    <tr>\n",
              "      <th>30</th>\n",
              "      <td>0.000266</td>\n",
              "      <td>0.002745</td>\n",
              "    </tr>\n",
              "    <tr>\n",
              "      <th>40</th>\n",
              "      <td>0.000496</td>\n",
              "      <td>0.007005</td>\n",
              "    </tr>\n",
              "    <tr>\n",
              "      <th>50</th>\n",
              "      <td>0.000724</td>\n",
              "      <td>0.009827</td>\n",
              "    </tr>\n",
              "  </tbody>\n",
              "</table>\n",
              "</div>"
            ],
            "text/plain": [
              "    Nearest Neighbours  Christofides\n",
              "10            0.000049      0.000986\n",
              "20            0.000121      0.002630\n",
              "30            0.000266      0.002745\n",
              "40            0.000496      0.007005\n",
              "50            0.000724      0.009827"
            ]
          },
          "execution_count": 13,
          "metadata": {},
          "output_type": "execute_result"
        }
      ],
      "source": [
        "data = {\n",
        "    'Nearest Neighbours': nn,\n",
        "    'Christofides': ch,\n",
        "}\n",
        "df = pd.DataFrame(data, index=[i for i in range(10, 501, 10)])\n",
        "df.head()\n"
      ]
    },
    {
      "cell_type": "code",
      "execution_count": null,
      "metadata": {},
      "outputs": [
        {
          "data": {
            "application/vnd.plotly.v1+json": {
              "config": {
                "plotlyServerURL": "https://plot.ly"
              },
              "data": [
                {
                  "hovertemplate": "variable=Nearest Neighbours<br>index=%{x}<br>value=%{y}<extra></extra>",
                  "legendgroup": "Nearest Neighbours",
                  "line": {
                    "color": "#636efa",
                    "dash": "solid"
                  },
                  "marker": {
                    "symbol": "circle"
                  },
                  "mode": "lines",
                  "name": "Nearest Neighbours",
                  "orientation": "v",
                  "showlegend": true,
                  "type": "scatter",
                  "x": [
                    10,
                    20,
                    30,
                    40,
                    50,
                    60,
                    70,
                    80,
                    90,
                    100,
                    110,
                    120,
                    130,
                    140,
                    150,
                    160,
                    170,
                    180,
                    190,
                    200,
                    210,
                    220,
                    230,
                    240,
                    250,
                    260,
                    270,
                    280,
                    290,
                    300,
                    310,
                    320,
                    330,
                    340,
                    350,
                    360,
                    370,
                    380,
                    390,
                    400,
                    410,
                    420,
                    430,
                    440,
                    450,
                    460,
                    470,
                    480,
                    490,
                    500
                  ],
                  "xaxis": "x",
                  "y": [
                    0.00004933299999265728,
                    0.00012070900001504015,
                    0.00026641600001653387,
                    0.0004959590000055414,
                    0.0007243749999759075,
                    0.0010565420000148151,
                    0.001497374999985368,
                    0.0019256660000053216,
                    0.0026042920000008962,
                    0.0038150000000030104,
                    0.004405666999986124,
                    0.0057432499999947595,
                    0.007076458999989654,
                    0.008716042000003199,
                    0.010675082999995311,
                    0.06599829199998908,
                    0.014034833000010849,
                    0.017023332999997365,
                    0.07609541599998693,
                    0.027517332999991595,
                    0.08737725000000296,
                    0.031079375000018672,
                    0.033919499999996106,
                    0.03783270799999627,
                    0.046071667000006755,
                    0.051548833999987664,
                    0.054629915999981904,
                    0.06142758299998263,
                    0.06662204199997745,
                    0.06829183299998931,
                    0.07639449999999215,
                    0.17221162499998854,
                    0.16340383299998962,
                    0.16135045900000478,
                    0.11083933399999069,
                    0.18511933299998873,
                    0.22247020800000428,
                    0.19670158300002072,
                    0.21751016700000037,
                    0.24247541700000852,
                    0.2571919160000107,
                    0.28383333300001823,
                    0.3021850829999835,
                    0.31049849999999424,
                    0.308543874999998,
                    0.3626662920000001,
                    0.3492407079999964,
                    0.49410491699998715,
                    0.39434504199999765,
                    0.39702804099999867
                  ],
                  "yaxis": "y"
                },
                {
                  "hovertemplate": "variable=Christofides<br>index=%{x}<br>value=%{y}<extra></extra>",
                  "legendgroup": "Christofides",
                  "line": {
                    "color": "#EF553B",
                    "dash": "solid"
                  },
                  "marker": {
                    "symbol": "circle"
                  },
                  "mode": "lines",
                  "name": "Christofides",
                  "orientation": "v",
                  "showlegend": true,
                  "type": "scatter",
                  "x": [
                    10,
                    20,
                    30,
                    40,
                    50,
                    60,
                    70,
                    80,
                    90,
                    100,
                    110,
                    120,
                    130,
                    140,
                    150,
                    160,
                    170,
                    180,
                    190,
                    200,
                    210,
                    220,
                    230,
                    240,
                    250,
                    260,
                    270,
                    280,
                    290,
                    300,
                    310,
                    320,
                    330,
                    340,
                    350,
                    360,
                    370,
                    380,
                    390,
                    400,
                    410,
                    420,
                    430,
                    440,
                    450,
                    460,
                    470,
                    480,
                    490,
                    500
                  ],
                  "xaxis": "x",
                  "y": [
                    0.000986292000021649,
                    0.002629708000000619,
                    0.0027454590000104417,
                    0.007005292000002328,
                    0.009827250000000731,
                    0.01753974999999741,
                    0.019645959000001767,
                    0.0437694160000035,
                    0.07134808399999315,
                    0.07074600000001396,
                    0.08471079099999201,
                    0.09871420800001829,
                    0.09174116700000923,
                    0.11923487499998942,
                    0.10346025000001191,
                    0.21055070899998896,
                    0.3004167080000002,
                    0.2892325419999793,
                    0.3942086670000151,
                    0.4656886249999843,
                    0.2878494170000181,
                    0.6352188339999998,
                    0.7124903750000158,
                    0.8048731670000109,
                    0.718279917000018,
                    1.0281434170000239,
                    1.1545798340000033,
                    1.199382665999991,
                    1.0537517500000035,
                    0.9373344170000166,
                    1.4715842080000243,
                    1.8120406250000087,
                    1.8301366660000156,
                    2.487440915999997,
                    2.0288571670000124,
                    1.7213494580000201,
                    2.394946415999982,
                    2.5812962500000083,
                    2.946900416999995,
                    2.971389708000004,
                    3.1579436250000015,
                    3.7984819579999964,
                    4.563098541999977,
                    3.090168874999989,
                    5.540213292000004,
                    5.719750457999993,
                    4.794413834000011,
                    6.369180875000012,
                    6.195806000000005,
                    5.036542500000024
                  ],
                  "yaxis": "y"
                }
              ],
              "layout": {
                "legend": {
                  "title": {
                    "text": "variable"
                  },
                  "tracegroupgap": 0
                },
                "template": {
                  "data": {
                    "bar": [
                      {
                        "error_x": {
                          "color": "#2a3f5f"
                        },
                        "error_y": {
                          "color": "#2a3f5f"
                        },
                        "marker": {
                          "line": {
                            "color": "#E5ECF6",
                            "width": 0.5
                          },
                          "pattern": {
                            "fillmode": "overlay",
                            "size": 10,
                            "solidity": 0.2
                          }
                        },
                        "type": "bar"
                      }
                    ],
                    "barpolar": [
                      {
                        "marker": {
                          "line": {
                            "color": "#E5ECF6",
                            "width": 0.5
                          },
                          "pattern": {
                            "fillmode": "overlay",
                            "size": 10,
                            "solidity": 0.2
                          }
                        },
                        "type": "barpolar"
                      }
                    ],
                    "carpet": [
                      {
                        "aaxis": {
                          "endlinecolor": "#2a3f5f",
                          "gridcolor": "white",
                          "linecolor": "white",
                          "minorgridcolor": "white",
                          "startlinecolor": "#2a3f5f"
                        },
                        "baxis": {
                          "endlinecolor": "#2a3f5f",
                          "gridcolor": "white",
                          "linecolor": "white",
                          "minorgridcolor": "white",
                          "startlinecolor": "#2a3f5f"
                        },
                        "type": "carpet"
                      }
                    ],
                    "choropleth": [
                      {
                        "colorbar": {
                          "outlinewidth": 0,
                          "ticks": ""
                        },
                        "type": "choropleth"
                      }
                    ],
                    "contour": [
                      {
                        "colorbar": {
                          "outlinewidth": 0,
                          "ticks": ""
                        },
                        "colorscale": [
                          [
                            0,
                            "#0d0887"
                          ],
                          [
                            0.1111111111111111,
                            "#46039f"
                          ],
                          [
                            0.2222222222222222,
                            "#7201a8"
                          ],
                          [
                            0.3333333333333333,
                            "#9c179e"
                          ],
                          [
                            0.4444444444444444,
                            "#bd3786"
                          ],
                          [
                            0.5555555555555556,
                            "#d8576b"
                          ],
                          [
                            0.6666666666666666,
                            "#ed7953"
                          ],
                          [
                            0.7777777777777778,
                            "#fb9f3a"
                          ],
                          [
                            0.8888888888888888,
                            "#fdca26"
                          ],
                          [
                            1,
                            "#f0f921"
                          ]
                        ],
                        "type": "contour"
                      }
                    ],
                    "contourcarpet": [
                      {
                        "colorbar": {
                          "outlinewidth": 0,
                          "ticks": ""
                        },
                        "type": "contourcarpet"
                      }
                    ],
                    "heatmap": [
                      {
                        "colorbar": {
                          "outlinewidth": 0,
                          "ticks": ""
                        },
                        "colorscale": [
                          [
                            0,
                            "#0d0887"
                          ],
                          [
                            0.1111111111111111,
                            "#46039f"
                          ],
                          [
                            0.2222222222222222,
                            "#7201a8"
                          ],
                          [
                            0.3333333333333333,
                            "#9c179e"
                          ],
                          [
                            0.4444444444444444,
                            "#bd3786"
                          ],
                          [
                            0.5555555555555556,
                            "#d8576b"
                          ],
                          [
                            0.6666666666666666,
                            "#ed7953"
                          ],
                          [
                            0.7777777777777778,
                            "#fb9f3a"
                          ],
                          [
                            0.8888888888888888,
                            "#fdca26"
                          ],
                          [
                            1,
                            "#f0f921"
                          ]
                        ],
                        "type": "heatmap"
                      }
                    ],
                    "heatmapgl": [
                      {
                        "colorbar": {
                          "outlinewidth": 0,
                          "ticks": ""
                        },
                        "colorscale": [
                          [
                            0,
                            "#0d0887"
                          ],
                          [
                            0.1111111111111111,
                            "#46039f"
                          ],
                          [
                            0.2222222222222222,
                            "#7201a8"
                          ],
                          [
                            0.3333333333333333,
                            "#9c179e"
                          ],
                          [
                            0.4444444444444444,
                            "#bd3786"
                          ],
                          [
                            0.5555555555555556,
                            "#d8576b"
                          ],
                          [
                            0.6666666666666666,
                            "#ed7953"
                          ],
                          [
                            0.7777777777777778,
                            "#fb9f3a"
                          ],
                          [
                            0.8888888888888888,
                            "#fdca26"
                          ],
                          [
                            1,
                            "#f0f921"
                          ]
                        ],
                        "type": "heatmapgl"
                      }
                    ],
                    "histogram": [
                      {
                        "marker": {
                          "pattern": {
                            "fillmode": "overlay",
                            "size": 10,
                            "solidity": 0.2
                          }
                        },
                        "type": "histogram"
                      }
                    ],
                    "histogram2d": [
                      {
                        "colorbar": {
                          "outlinewidth": 0,
                          "ticks": ""
                        },
                        "colorscale": [
                          [
                            0,
                            "#0d0887"
                          ],
                          [
                            0.1111111111111111,
                            "#46039f"
                          ],
                          [
                            0.2222222222222222,
                            "#7201a8"
                          ],
                          [
                            0.3333333333333333,
                            "#9c179e"
                          ],
                          [
                            0.4444444444444444,
                            "#bd3786"
                          ],
                          [
                            0.5555555555555556,
                            "#d8576b"
                          ],
                          [
                            0.6666666666666666,
                            "#ed7953"
                          ],
                          [
                            0.7777777777777778,
                            "#fb9f3a"
                          ],
                          [
                            0.8888888888888888,
                            "#fdca26"
                          ],
                          [
                            1,
                            "#f0f921"
                          ]
                        ],
                        "type": "histogram2d"
                      }
                    ],
                    "histogram2dcontour": [
                      {
                        "colorbar": {
                          "outlinewidth": 0,
                          "ticks": ""
                        },
                        "colorscale": [
                          [
                            0,
                            "#0d0887"
                          ],
                          [
                            0.1111111111111111,
                            "#46039f"
                          ],
                          [
                            0.2222222222222222,
                            "#7201a8"
                          ],
                          [
                            0.3333333333333333,
                            "#9c179e"
                          ],
                          [
                            0.4444444444444444,
                            "#bd3786"
                          ],
                          [
                            0.5555555555555556,
                            "#d8576b"
                          ],
                          [
                            0.6666666666666666,
                            "#ed7953"
                          ],
                          [
                            0.7777777777777778,
                            "#fb9f3a"
                          ],
                          [
                            0.8888888888888888,
                            "#fdca26"
                          ],
                          [
                            1,
                            "#f0f921"
                          ]
                        ],
                        "type": "histogram2dcontour"
                      }
                    ],
                    "mesh3d": [
                      {
                        "colorbar": {
                          "outlinewidth": 0,
                          "ticks": ""
                        },
                        "type": "mesh3d"
                      }
                    ],
                    "parcoords": [
                      {
                        "line": {
                          "colorbar": {
                            "outlinewidth": 0,
                            "ticks": ""
                          }
                        },
                        "type": "parcoords"
                      }
                    ],
                    "pie": [
                      {
                        "automargin": true,
                        "type": "pie"
                      }
                    ],
                    "scatter": [
                      {
                        "marker": {
                          "colorbar": {
                            "outlinewidth": 0,
                            "ticks": ""
                          }
                        },
                        "type": "scatter"
                      }
                    ],
                    "scatter3d": [
                      {
                        "line": {
                          "colorbar": {
                            "outlinewidth": 0,
                            "ticks": ""
                          }
                        },
                        "marker": {
                          "colorbar": {
                            "outlinewidth": 0,
                            "ticks": ""
                          }
                        },
                        "type": "scatter3d"
                      }
                    ],
                    "scattercarpet": [
                      {
                        "marker": {
                          "colorbar": {
                            "outlinewidth": 0,
                            "ticks": ""
                          }
                        },
                        "type": "scattercarpet"
                      }
                    ],
                    "scattergeo": [
                      {
                        "marker": {
                          "colorbar": {
                            "outlinewidth": 0,
                            "ticks": ""
                          }
                        },
                        "type": "scattergeo"
                      }
                    ],
                    "scattergl": [
                      {
                        "marker": {
                          "colorbar": {
                            "outlinewidth": 0,
                            "ticks": ""
                          }
                        },
                        "type": "scattergl"
                      }
                    ],
                    "scattermapbox": [
                      {
                        "marker": {
                          "colorbar": {
                            "outlinewidth": 0,
                            "ticks": ""
                          }
                        },
                        "type": "scattermapbox"
                      }
                    ],
                    "scatterpolar": [
                      {
                        "marker": {
                          "colorbar": {
                            "outlinewidth": 0,
                            "ticks": ""
                          }
                        },
                        "type": "scatterpolar"
                      }
                    ],
                    "scatterpolargl": [
                      {
                        "marker": {
                          "colorbar": {
                            "outlinewidth": 0,
                            "ticks": ""
                          }
                        },
                        "type": "scatterpolargl"
                      }
                    ],
                    "scatterternary": [
                      {
                        "marker": {
                          "colorbar": {
                            "outlinewidth": 0,
                            "ticks": ""
                          }
                        },
                        "type": "scatterternary"
                      }
                    ],
                    "surface": [
                      {
                        "colorbar": {
                          "outlinewidth": 0,
                          "ticks": ""
                        },
                        "colorscale": [
                          [
                            0,
                            "#0d0887"
                          ],
                          [
                            0.1111111111111111,
                            "#46039f"
                          ],
                          [
                            0.2222222222222222,
                            "#7201a8"
                          ],
                          [
                            0.3333333333333333,
                            "#9c179e"
                          ],
                          [
                            0.4444444444444444,
                            "#bd3786"
                          ],
                          [
                            0.5555555555555556,
                            "#d8576b"
                          ],
                          [
                            0.6666666666666666,
                            "#ed7953"
                          ],
                          [
                            0.7777777777777778,
                            "#fb9f3a"
                          ],
                          [
                            0.8888888888888888,
                            "#fdca26"
                          ],
                          [
                            1,
                            "#f0f921"
                          ]
                        ],
                        "type": "surface"
                      }
                    ],
                    "table": [
                      {
                        "cells": {
                          "fill": {
                            "color": "#EBF0F8"
                          },
                          "line": {
                            "color": "white"
                          }
                        },
                        "header": {
                          "fill": {
                            "color": "#C8D4E3"
                          },
                          "line": {
                            "color": "white"
                          }
                        },
                        "type": "table"
                      }
                    ]
                  },
                  "layout": {
                    "annotationdefaults": {
                      "arrowcolor": "#2a3f5f",
                      "arrowhead": 0,
                      "arrowwidth": 1
                    },
                    "autotypenumbers": "strict",
                    "coloraxis": {
                      "colorbar": {
                        "outlinewidth": 0,
                        "ticks": ""
                      }
                    },
                    "colorscale": {
                      "diverging": [
                        [
                          0,
                          "#8e0152"
                        ],
                        [
                          0.1,
                          "#c51b7d"
                        ],
                        [
                          0.2,
                          "#de77ae"
                        ],
                        [
                          0.3,
                          "#f1b6da"
                        ],
                        [
                          0.4,
                          "#fde0ef"
                        ],
                        [
                          0.5,
                          "#f7f7f7"
                        ],
                        [
                          0.6,
                          "#e6f5d0"
                        ],
                        [
                          0.7,
                          "#b8e186"
                        ],
                        [
                          0.8,
                          "#7fbc41"
                        ],
                        [
                          0.9,
                          "#4d9221"
                        ],
                        [
                          1,
                          "#276419"
                        ]
                      ],
                      "sequential": [
                        [
                          0,
                          "#0d0887"
                        ],
                        [
                          0.1111111111111111,
                          "#46039f"
                        ],
                        [
                          0.2222222222222222,
                          "#7201a8"
                        ],
                        [
                          0.3333333333333333,
                          "#9c179e"
                        ],
                        [
                          0.4444444444444444,
                          "#bd3786"
                        ],
                        [
                          0.5555555555555556,
                          "#d8576b"
                        ],
                        [
                          0.6666666666666666,
                          "#ed7953"
                        ],
                        [
                          0.7777777777777778,
                          "#fb9f3a"
                        ],
                        [
                          0.8888888888888888,
                          "#fdca26"
                        ],
                        [
                          1,
                          "#f0f921"
                        ]
                      ],
                      "sequentialminus": [
                        [
                          0,
                          "#0d0887"
                        ],
                        [
                          0.1111111111111111,
                          "#46039f"
                        ],
                        [
                          0.2222222222222222,
                          "#7201a8"
                        ],
                        [
                          0.3333333333333333,
                          "#9c179e"
                        ],
                        [
                          0.4444444444444444,
                          "#bd3786"
                        ],
                        [
                          0.5555555555555556,
                          "#d8576b"
                        ],
                        [
                          0.6666666666666666,
                          "#ed7953"
                        ],
                        [
                          0.7777777777777778,
                          "#fb9f3a"
                        ],
                        [
                          0.8888888888888888,
                          "#fdca26"
                        ],
                        [
                          1,
                          "#f0f921"
                        ]
                      ]
                    },
                    "colorway": [
                      "#636efa",
                      "#EF553B",
                      "#00cc96",
                      "#ab63fa",
                      "#FFA15A",
                      "#19d3f3",
                      "#FF6692",
                      "#B6E880",
                      "#FF97FF",
                      "#FECB52"
                    ],
                    "font": {
                      "color": "#2a3f5f"
                    },
                    "geo": {
                      "bgcolor": "white",
                      "lakecolor": "white",
                      "landcolor": "#E5ECF6",
                      "showlakes": true,
                      "showland": true,
                      "subunitcolor": "white"
                    },
                    "hoverlabel": {
                      "align": "left"
                    },
                    "hovermode": "closest",
                    "mapbox": {
                      "style": "light"
                    },
                    "paper_bgcolor": "white",
                    "plot_bgcolor": "#E5ECF6",
                    "polar": {
                      "angularaxis": {
                        "gridcolor": "white",
                        "linecolor": "white",
                        "ticks": ""
                      },
                      "bgcolor": "#E5ECF6",
                      "radialaxis": {
                        "gridcolor": "white",
                        "linecolor": "white",
                        "ticks": ""
                      }
                    },
                    "scene": {
                      "xaxis": {
                        "backgroundcolor": "#E5ECF6",
                        "gridcolor": "white",
                        "gridwidth": 2,
                        "linecolor": "white",
                        "showbackground": true,
                        "ticks": "",
                        "zerolinecolor": "white"
                      },
                      "yaxis": {
                        "backgroundcolor": "#E5ECF6",
                        "gridcolor": "white",
                        "gridwidth": 2,
                        "linecolor": "white",
                        "showbackground": true,
                        "ticks": "",
                        "zerolinecolor": "white"
                      },
                      "zaxis": {
                        "backgroundcolor": "#E5ECF6",
                        "gridcolor": "white",
                        "gridwidth": 2,
                        "linecolor": "white",
                        "showbackground": true,
                        "ticks": "",
                        "zerolinecolor": "white"
                      }
                    },
                    "shapedefaults": {
                      "line": {
                        "color": "#2a3f5f"
                      }
                    },
                    "ternary": {
                      "aaxis": {
                        "gridcolor": "white",
                        "linecolor": "white",
                        "ticks": ""
                      },
                      "baxis": {
                        "gridcolor": "white",
                        "linecolor": "white",
                        "ticks": ""
                      },
                      "bgcolor": "#E5ECF6",
                      "caxis": {
                        "gridcolor": "white",
                        "linecolor": "white",
                        "ticks": ""
                      }
                    },
                    "title": {
                      "x": 0.05
                    },
                    "xaxis": {
                      "automargin": true,
                      "gridcolor": "white",
                      "linecolor": "white",
                      "ticks": "",
                      "title": {
                        "standoff": 15
                      },
                      "zerolinecolor": "white",
                      "zerolinewidth": 2
                    },
                    "yaxis": {
                      "automargin": true,
                      "gridcolor": "white",
                      "linecolor": "white",
                      "ticks": "",
                      "title": {
                        "standoff": 15
                      },
                      "zerolinecolor": "white",
                      "zerolinewidth": 2
                    }
                  }
                },
                "title": {
                  "text": "Runtime Comparison for 10-500 Cities"
                },
                "xaxis": {
                  "anchor": "y",
                  "domain": [
                    0,
                    1
                  ],
                  "title": {
                    "text": "Amount of Cities"
                  }
                },
                "yaxis": {
                  "anchor": "x",
                  "domain": [
                    0,
                    1
                  ],
                  "title": {
                    "text": "Execution Time (s)"
                  }
                }
              }
            }
          },
          "metadata": {},
          "output_type": "display_data"
        }
      ],
      "source": [
        "fig = px.line(df, title=\"Runtime Comparison for 10-500 Cities\")\n",
        "fig.update_xaxes(title=\"Amount of Cities\")\n",
        "fig.update_yaxes(title=\"Execution Time (s)\")\n",
        "fig.show()\n"
      ]
    },
    {
      "cell_type": "code",
      "execution_count": null,
      "metadata": {},
      "outputs": [],
      "source": []
    }
  ],
  "metadata": {
    "colab": {
      "name": "tsp-visualization.ipynb",
      "provenance": []
    },
    "interpreter": {
      "hash": "38cca0c38332a56087b24af0bc80247f4fced29cb4f7f437d91dc159adec9c4e"
    },
    "kernelspec": {
      "display_name": "Python 3.9.7 ('base')",
      "language": "python",
      "name": "python3"
    },
    "language_info": {
      "codemirror_mode": {
        "name": "ipython",
        "version": 3
      },
      "file_extension": ".py",
      "mimetype": "text/x-python",
      "name": "python",
      "nbconvert_exporter": "python",
      "pygments_lexer": "ipython3",
      "version": "3.9.7"
    }
  },
  "nbformat": 4,
  "nbformat_minor": 0
}
